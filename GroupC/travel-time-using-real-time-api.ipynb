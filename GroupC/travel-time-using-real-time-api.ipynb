{
 "cells": [
  {
   "cell_type": "code",
   "execution_count": 48,
   "metadata": {},
   "outputs": [],
   "source": [
    "# Real-time traffic updates to aid with ambulance selection\n",
    "\n",
    "# Given a random set of ambulances available at various locations (potential activation points, aka, origins) \n",
    "# and an incident scene point (aka destination)\n",
    "# we find the travel time and actual road network distance for each of their journeys\n",
    "# and see that ambulances that appear closer to the scene may in fact take longer to arrive \n",
    "# due to residential roads route vs highways and blocked roads, and also congestion patterns at different times of day\n",
    "\n",
    "import urllib\n",
    "import requests\n",
    "import json\n",
    "\n",
    "#after every pair of coordinates add semincolon ; but nothing at the end\n",
    "origins = \"51.48, -0.04; 51.543, -0.069; 51.533, -0.157; 51.54, -0.145; 51.524, -0.04; 51.489, -0.171; 51.521, -0.169; 51.52, -0.036; 51.501, -0.031; 51.518, -0.035\"\n",
    "\n",
    "destinations = \"51.503, -0.103\"\n",
    "\n",
    "#YearMonthDay HourMin\n",
    "start_time = \"2019-03-20T18:00\"\n",
    "\n",
    "api_key = \"add-key-here\";\n",
    "\n",
    "endpoint = \"http://dev.virtualearth.net/REST/V1/Routes/DistanceMatrix?origins=\"+origins+\"&destinations=\"+destinations+\"&travelMode=driving&startTime=\"+start_time+\"&optimizeWaypoints=true&key=\" + api_key"
   ]
  },
  {
   "cell_type": "code",
   "execution_count": 49,
   "metadata": {},
   "outputs": [
    {
     "data": {
      "text/plain": [
       "200"
      ]
     },
     "execution_count": 49,
     "metadata": {},
     "output_type": "execute_result"
    }
   ],
   "source": [
    "r = requests.get(endpoint);\n",
    "r.status_code"
   ]
  },
  {
   "cell_type": "code",
   "execution_count": 50,
   "metadata": {},
   "outputs": [
    {
     "data": {
      "text/plain": [
       "{'authenticationResultCode': 'ValidCredentials',\n",
       " 'brandLogoUri': 'http://dev.virtualearth.net/Branding/logo_powered_by.png',\n",
       " 'copyright': 'Copyright © 2019 Microsoft and its suppliers. All rights reserved. This API cannot be accessed and the content and any results may not be used, reproduced or transmitted in any manner without express written permission from Microsoft Corporation.',\n",
       " 'resourceSets': [{'estimatedTotal': 1,\n",
       "   'resources': [{'__type': 'DistanceMatrix:http://schemas.microsoft.com/search/local/ws/rest/v1',\n",
       "     'destinations': [{'latitude': 51.503, 'longitude': -0.103}],\n",
       "     'errorMessage': 'Request accepted.',\n",
       "     'origins': [{'latitude': 51.48, 'longitude': -0.04},\n",
       "      {'latitude': 51.543, 'longitude': -0.069},\n",
       "      {'latitude': 51.533, 'longitude': -0.157},\n",
       "      {'latitude': 51.54, 'longitude': -0.145},\n",
       "      {'latitude': 51.524, 'longitude': -0.04},\n",
       "      {'latitude': 51.489, 'longitude': -0.171},\n",
       "      {'latitude': 51.521, 'longitude': -0.169},\n",
       "      {'latitude': 51.52, 'longitude': -0.036},\n",
       "      {'latitude': 51.501, 'longitude': -0.031},\n",
       "      {'latitude': 51.518, 'longitude': -0.035}],\n",
       "     'results': [{'departureTime': '/Date(1553104800000-0700)/',\n",
       "       'destinationIndex': 0,\n",
       "       'originIndex': 0,\n",
       "       'totalWalkDuration': 0,\n",
       "       'travelDistance': 6.356,\n",
       "       'travelDuration': 15.367},\n",
       "      {'departureTime': '/Date(1553104800000-0700)/',\n",
       "       'destinationIndex': 0,\n",
       "       'originIndex': 1,\n",
       "       'totalWalkDuration': 0,\n",
       "       'travelDistance': 6.376,\n",
       "       'travelDuration': 22.95},\n",
       "      {'departureTime': '/Date(1553104800000-0700)/',\n",
       "       'destinationIndex': 0,\n",
       "       'originIndex': 2,\n",
       "       'totalWalkDuration': 0,\n",
       "       'travelDistance': 8.314,\n",
       "       'travelDuration': 22.6},\n",
       "      {'departureTime': '/Date(1553104800000-0700)/',\n",
       "       'destinationIndex': 0,\n",
       "       'originIndex': 3,\n",
       "       'totalWalkDuration': 0,\n",
       "       'travelDistance': 6.314,\n",
       "       'travelDuration': 20.517},\n",
       "      {'departureTime': '/Date(1553104800000-0700)/',\n",
       "       'destinationIndex': 0,\n",
       "       'originIndex': 4,\n",
       "       'totalWalkDuration': 0,\n",
       "       'travelDistance': 6.751,\n",
       "       'travelDuration': 19.983},\n",
       "      {'departureTime': '/Date(1553104800000-0700)/',\n",
       "       'destinationIndex': 0,\n",
       "       'originIndex': 5,\n",
       "       'totalWalkDuration': 0,\n",
       "       'travelDistance': 6.535,\n",
       "       'travelDuration': 18.017},\n",
       "      {'departureTime': '/Date(1553104800000-0700)/',\n",
       "       'destinationIndex': 0,\n",
       "       'originIndex': 6,\n",
       "       'totalWalkDuration': 0,\n",
       "       'travelDistance': 6.845,\n",
       "       'travelDuration': 18.267},\n",
       "      {'departureTime': '/Date(1553104800000-0700)/',\n",
       "       'destinationIndex': 0,\n",
       "       'originIndex': 7,\n",
       "       'totalWalkDuration': 0,\n",
       "       'travelDistance': 6.685,\n",
       "       'travelDuration': 18.917},\n",
       "      {'departureTime': '/Date(1553104800000-0700)/',\n",
       "       'destinationIndex': 0,\n",
       "       'originIndex': 8,\n",
       "       'totalWalkDuration': 0,\n",
       "       'travelDistance': 6.73,\n",
       "       'travelDuration': 21.317},\n",
       "      {'departureTime': '/Date(1553104800000-0700)/',\n",
       "       'destinationIndex': 0,\n",
       "       'originIndex': 9,\n",
       "       'totalWalkDuration': 0,\n",
       "       'travelDistance': 6.481,\n",
       "       'travelDuration': 18.867}]}]}],\n",
       " 'statusCode': 200,\n",
       " 'statusDescription': 'OK',\n",
       " 'traceId': 'eb47815c56cf40698225164cae9569ef|DB40231237|7.7.0.0'}"
      ]
     },
     "execution_count": 50,
     "metadata": {},
     "output_type": "execute_result"
    }
   ],
   "source": [
    "r.json()"
   ]
  }
 ],
 "metadata": {
  "kernelspec": {
   "display_name": "Python 3",
   "language": "python",
   "name": "python3"
  },
  "language_info": {
   "codemirror_mode": {
    "name": "ipython",
    "version": 3
   },
   "file_extension": ".py",
   "mimetype": "text/x-python",
   "name": "python",
   "nbconvert_exporter": "python",
   "pygments_lexer": "ipython3",
   "version": "3.6.7"
  }
 },
 "nbformat": 4,
 "nbformat_minor": 2
}
