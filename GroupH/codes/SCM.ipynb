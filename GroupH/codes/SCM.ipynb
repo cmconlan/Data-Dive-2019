{
 "cells": [
  {
   "cell_type": "code",
   "execution_count": 97,
   "metadata": {},
   "outputs": [],
   "source": [
    "import pandas as pd\n",
    "import geopandas as gpd\n",
    "import numpy as np\n",
    "import matplotlib.pyplot as plt\n",
    "import statsmodels.api as sm\n",
    "import seaborn as sns\n",
    "from sklearn import preprocessing\n",
    "plt.style.use('seaborn')\n",
    "%matplotlib inline"
   ]
  },
  {
   "cell_type": "code",
   "execution_count": 10,
   "metadata": {},
   "outputs": [],
   "source": [
    "p1 = pd.read_csv('data/Responses/responsesP1(Jan-Feb).csv')\n",
    "p2 = pd.read_csv('data/Responses/responsesP2(Mar-Apr).csv')\n",
    "p3 = pd.read_csv('data/Responses/responsesP3(May-Jun).csv')\n",
    "p4 = pd.read_csv('data/Responses/responsesP4(Jul-Aug).csv')\n",
    "p4 = pd.read_csv('data/Responses/responsesP4(Jul-Aug).csv')\n",
    "p5 = pd.read_csv('data/Responses/responsesP5(Sep-Oct).csv')\n",
    "p6 = pd.read_csv('data/Responses/responsesP6(Nov-Dec).csv')"
   ]
  },
  {
   "cell_type": "code",
   "execution_count": null,
   "metadata": {},
   "outputs": [],
   "source": []
  },
  {
   "cell_type": "code",
   "execution_count": 138,
   "metadata": {},
   "outputs": [],
   "source": [
    "#use this for performance\n",
    "q2 = pd.read_csv('data/Incidents/incidentsQ2.csv', index_col='callstart', infer_datetime_format=True, parse_dates=True)"
   ]
  },
  {
   "cell_type": "code",
   "execution_count": 148,
   "metadata": {},
   "outputs": [],
   "source": [
    "q1 = pd.read_csv('data/Incidents/incidentsQ1.csv', index_col='callstart', infer_datetime_format=True, parse_dates=True)"
   ]
  },
  {
   "cell_type": "code",
   "execution_count": 169,
   "metadata": {},
   "outputs": [],
   "source": [
    "p1_performance = (q1.groupby(q1.index.date)['response_aqi'].sum() / 3600)[-31:]"
   ]
  },
  {
   "cell_type": "code",
   "execution_count": 170,
   "metadata": {},
   "outputs": [],
   "source": [
    "p2_performance = (q2.groupby(q2.index.date)['response_aqi'].sum() / 3600)[:30]"
   ]
  },
  {
   "cell_type": "code",
   "execution_count": 171,
   "metadata": {},
   "outputs": [],
   "source": [
    "response_aqi = pd.concat([p1_performance, p2_performance], axis=0)"
   ]
  },
  {
   "cell_type": "code",
   "execution_count": 172,
   "metadata": {},
   "outputs": [],
   "source": [
    "p2_performance = (p2.groupby('date')['jobcycle'].sum() - p2.groupby('date')['hospitalturnaround'].sum()) / 3600"
   ]
  },
  {
   "cell_type": "code",
   "execution_count": 173,
   "metadata": {},
   "outputs": [],
   "source": [
    "a = pd.concat([response_aqi, p2_performance], axis=1)"
   ]
  },
  {
   "cell_type": "code",
   "execution_count": 175,
   "metadata": {},
   "outputs": [
    {
     "data": {
      "text/html": [
       "<div>\n",
       "<style scoped>\n",
       "    .dataframe tbody tr th:only-of-type {\n",
       "        vertical-align: middle;\n",
       "    }\n",
       "\n",
       "    .dataframe tbody tr th {\n",
       "        vertical-align: top;\n",
       "    }\n",
       "\n",
       "    .dataframe thead th {\n",
       "        text-align: right;\n",
       "    }\n",
       "</style>\n",
       "<table border=\"1\" class=\"dataframe\">\n",
       "  <thead>\n",
       "    <tr style=\"text-align: right;\">\n",
       "      <th></th>\n",
       "      <th>response_aqi</th>\n",
       "      <th>0</th>\n",
       "    </tr>\n",
       "  </thead>\n",
       "  <tbody>\n",
       "    <tr>\n",
       "      <th>response_aqi</th>\n",
       "      <td>1.000000</td>\n",
       "      <td>0.405123</td>\n",
       "    </tr>\n",
       "    <tr>\n",
       "      <th>0</th>\n",
       "      <td>0.405123</td>\n",
       "      <td>1.000000</td>\n",
       "    </tr>\n",
       "  </tbody>\n",
       "</table>\n",
       "</div>"
      ],
      "text/plain": [
       "              response_aqi         0\n",
       "response_aqi      1.000000  0.405123\n",
       "0                 0.405123  1.000000"
      ]
     },
     "execution_count": 175,
     "metadata": {},
     "output_type": "execute_result"
    }
   ],
   "source": [
    "a.corr()"
   ]
  },
  {
   "cell_type": "code",
   "execution_count": null,
   "metadata": {},
   "outputs": [],
   "source": []
  },
  {
   "cell_type": "code",
   "execution_count": 9,
   "metadata": {},
   "outputs": [
    {
     "data": {
      "text/plain": [
       "Index(['incidentid', 'fpid', 'activationid', 'callsignkey', 'callstart',\n",
       "       'dispatch', 'arrivedatscene', 'leftscene', 'arrivedathospital',\n",
       "       'greentime', 'bluecall', 'age', 'sex', 'lat_activation',\n",
       "       'lon_activation', 'lat_incident', 'lon_incident', 'borough', 'ccgname',\n",
       "       'ccgcluster', 'lsoa', 'wardname', 'wardID', 'response', 'activation',\n",
       "       'mobilisation', 'running', 'tohospital', 'onscene',\n",
       "       'hospitalturnaround', 'jobcycle', 'dispatchtypegroup',\n",
       "       'distance_to_scene', 'callconcluded', 'T0_T5CallConnectToCallConcluded',\n",
       "       'mps', 'ht', 'dohcategory', 'chiefcomplaintcode', 'chiefcomplaint',\n",
       "       'hospitalcode', 'conveyed', 'conveyed_ed'],\n",
       "      dtype='object')"
      ]
     },
     "execution_count": 9,
     "metadata": {},
     "output_type": "execute_result"
    }
   ],
   "source": [
    "p1.columns"
   ]
  },
  {
   "cell_type": "code",
   "execution_count": 11,
   "metadata": {},
   "outputs": [],
   "source": [
    "responses = pd.concat([p1, p2, p3, p4, p5, p6])"
   ]
  },
  {
   "cell_type": "code",
   "execution_count": 4,
   "metadata": {},
   "outputs": [],
   "source": [
    "capacity = pd.read_excel('data/Capacity/las_daily_ambulance_capacity_data.xlsx')"
   ]
  },
  {
   "cell_type": "code",
   "execution_count": 5,
   "metadata": {},
   "outputs": [
    {
     "data": {
      "text/html": [
       "<div>\n",
       "<style scoped>\n",
       "    .dataframe tbody tr th:only-of-type {\n",
       "        vertical-align: middle;\n",
       "    }\n",
       "\n",
       "    .dataframe tbody tr th {\n",
       "        vertical-align: top;\n",
       "    }\n",
       "\n",
       "    .dataframe thead th {\n",
       "        text-align: right;\n",
       "    }\n",
       "</style>\n",
       "<table border=\"1\" class=\"dataframe\">\n",
       "  <thead>\n",
       "    <tr style=\"text-align: right;\">\n",
       "      <th></th>\n",
       "      <th>Week Ending</th>\n",
       "      <th>Month</th>\n",
       "      <th>Fyear</th>\n",
       "      <th>Date</th>\n",
       "      <th>Wday</th>\n",
       "      <th>DCA aPFVH</th>\n",
       "    </tr>\n",
       "  </thead>\n",
       "  <tbody>\n",
       "    <tr>\n",
       "      <th>0</th>\n",
       "      <td>2018-02-25</td>\n",
       "      <td>2018-02-01</td>\n",
       "      <td>20172018</td>\n",
       "      <td>2018-02-23</td>\n",
       "      <td>Fri</td>\n",
       "      <td>4876.866667</td>\n",
       "    </tr>\n",
       "    <tr>\n",
       "      <th>1</th>\n",
       "      <td>2018-02-25</td>\n",
       "      <td>2018-02-01</td>\n",
       "      <td>20172018</td>\n",
       "      <td>2018-02-24</td>\n",
       "      <td>Sat</td>\n",
       "      <td>4584.983333</td>\n",
       "    </tr>\n",
       "    <tr>\n",
       "      <th>2</th>\n",
       "      <td>2018-02-25</td>\n",
       "      <td>2018-02-01</td>\n",
       "      <td>20172018</td>\n",
       "      <td>2018-02-25</td>\n",
       "      <td>Sun</td>\n",
       "      <td>4465.400000</td>\n",
       "    </tr>\n",
       "    <tr>\n",
       "      <th>3</th>\n",
       "      <td>2018-03-04</td>\n",
       "      <td>2018-02-01</td>\n",
       "      <td>20172018</td>\n",
       "      <td>2018-02-26</td>\n",
       "      <td>Mon</td>\n",
       "      <td>4930.800000</td>\n",
       "    </tr>\n",
       "    <tr>\n",
       "      <th>4</th>\n",
       "      <td>2018-03-04</td>\n",
       "      <td>2018-02-01</td>\n",
       "      <td>20172018</td>\n",
       "      <td>2018-02-27</td>\n",
       "      <td>Tue</td>\n",
       "      <td>5028.316667</td>\n",
       "    </tr>\n",
       "  </tbody>\n",
       "</table>\n",
       "</div>"
      ],
      "text/plain": [
       "  Week Ending      Month     Fyear       Date Wday    DCA aPFVH\n",
       "0  2018-02-25 2018-02-01  20172018 2018-02-23  Fri  4876.866667\n",
       "1  2018-02-25 2018-02-01  20172018 2018-02-24  Sat  4584.983333\n",
       "2  2018-02-25 2018-02-01  20172018 2018-02-25  Sun  4465.400000\n",
       "3  2018-03-04 2018-02-01  20172018 2018-02-26  Mon  4930.800000\n",
       "4  2018-03-04 2018-02-01  20172018 2018-02-27  Tue  5028.316667"
      ]
     },
     "execution_count": 5,
     "metadata": {},
     "output_type": "execute_result"
    }
   ],
   "source": [
    "capacity.head()"
   ]
  },
  {
   "cell_type": "code",
   "execution_count": 38,
   "metadata": {},
   "outputs": [
    {
     "data": {
      "text/plain": [
       "Index(['incidentid', 'fpid', 'activationid', 'callsignkey', 'callstart',\n",
       "       'dispatch', 'arrivedatscene', 'leftscene', 'arrivedathospital',\n",
       "       'greentime', 'bluecall', 'age', 'sex', 'lat_activation',\n",
       "       'lon_activation', 'lat_incident', 'lon_incident', 'borough', 'ccgname',\n",
       "       'ccgcluster', 'lsoa', 'wardname', 'wardID', 'response', 'activation',\n",
       "       'mobilisation', 'running', 'tohospital', 'onscene',\n",
       "       'hospitalturnaround', 'jobcycle', 'dispatchtypegroup',\n",
       "       'distance_to_scene', 'callconcluded', 'T0_T5CallConnectToCallConcluded',\n",
       "       'mps', 'ht', 'dohcategory', 'chiefcomplaintcode', 'chiefcomplaint',\n",
       "       'hospitalcode', 'conveyed', 'conveyed_ed'],\n",
       "      dtype='object')"
      ]
     },
     "execution_count": 38,
     "metadata": {},
     "output_type": "execute_result"
    }
   ],
   "source": [
    "p2.columns"
   ]
  },
  {
   "cell_type": "code",
   "execution_count": 189,
   "metadata": {},
   "outputs": [
    {
     "data": {
      "text/html": [
       "<div>\n",
       "<style scoped>\n",
       "    .dataframe tbody tr th:only-of-type {\n",
       "        vertical-align: middle;\n",
       "    }\n",
       "\n",
       "    .dataframe tbody tr th {\n",
       "        vertical-align: top;\n",
       "    }\n",
       "\n",
       "    .dataframe thead th {\n",
       "        text-align: right;\n",
       "    }\n",
       "</style>\n",
       "<table border=\"1\" class=\"dataframe\">\n",
       "  <thead>\n",
       "    <tr style=\"text-align: right;\">\n",
       "      <th></th>\n",
       "      <th>incidentid</th>\n",
       "      <th>fpid</th>\n",
       "      <th>activationid</th>\n",
       "      <th>callsignkey</th>\n",
       "      <th>callstart</th>\n",
       "      <th>dispatch</th>\n",
       "      <th>arrivedatscene</th>\n",
       "      <th>leftscene</th>\n",
       "      <th>arrivedathospital</th>\n",
       "      <th>greentime</th>\n",
       "      <th>...</th>\n",
       "      <th>callconcluded</th>\n",
       "      <th>T0_T5CallConnectToCallConcluded</th>\n",
       "      <th>mps</th>\n",
       "      <th>ht</th>\n",
       "      <th>dohcategory</th>\n",
       "      <th>chiefcomplaintcode</th>\n",
       "      <th>chiefcomplaint</th>\n",
       "      <th>hospitalcode</th>\n",
       "      <th>conveyed</th>\n",
       "      <th>conveyed_ed</th>\n",
       "    </tr>\n",
       "  </thead>\n",
       "  <tbody>\n",
       "    <tr>\n",
       "      <th>356478</th>\n",
       "      <td>20190101005998</td>\n",
       "      <td>342323</td>\n",
       "      <td>115931785</td>\n",
       "      <td>22391</td>\n",
       "      <td>2019-01-01 20:13:27.000</td>\n",
       "      <td>2019-01-01 20:33:29.000</td>\n",
       "      <td>NaN</td>\n",
       "      <td>NaN</td>\n",
       "      <td>NaN</td>\n",
       "      <td>2019-01-01 20:58:06.000</td>\n",
       "      <td>...</td>\n",
       "      <td>NaN</td>\n",
       "      <td>NaN</td>\n",
       "      <td>0</td>\n",
       "      <td>0</td>\n",
       "      <td>C3</td>\n",
       "      <td>111.0</td>\n",
       "      <td>NHS 111 Transfer</td>\n",
       "      <td>9023</td>\n",
       "      <td>0</td>\n",
       "      <td>0</td>\n",
       "    </tr>\n",
       "    <tr>\n",
       "      <th>356479</th>\n",
       "      <td>20190101005998</td>\n",
       "      <td>342323</td>\n",
       "      <td>115931928</td>\n",
       "      <td>22394</td>\n",
       "      <td>2019-01-01 20:13:27.000</td>\n",
       "      <td>2019-01-01 21:05:13.000</td>\n",
       "      <td>2019-01-01 21:11:30.000</td>\n",
       "      <td>NaN</td>\n",
       "      <td>NaN</td>\n",
       "      <td>2019-01-01 22:17:11.000</td>\n",
       "      <td>...</td>\n",
       "      <td>NaN</td>\n",
       "      <td>NaN</td>\n",
       "      <td>0</td>\n",
       "      <td>0</td>\n",
       "      <td>C3</td>\n",
       "      <td>111.0</td>\n",
       "      <td>NHS 111 Transfer</td>\n",
       "      <td>9023</td>\n",
       "      <td>0</td>\n",
       "      <td>0</td>\n",
       "    </tr>\n",
       "    <tr>\n",
       "      <th>356480</th>\n",
       "      <td>20190101005999</td>\n",
       "      <td>342324</td>\n",
       "      <td>115931786</td>\n",
       "      <td>22413</td>\n",
       "      <td>2019-01-01 20:13:43.000</td>\n",
       "      <td>2019-01-01 20:35:08.000</td>\n",
       "      <td>2019-01-01 20:43:28.000</td>\n",
       "      <td>NaN</td>\n",
       "      <td>NaN</td>\n",
       "      <td>2019-01-02 00:12:22.000</td>\n",
       "      <td>...</td>\n",
       "      <td>NaN</td>\n",
       "      <td>NaN</td>\n",
       "      <td>0</td>\n",
       "      <td>0</td>\n",
       "      <td>C2</td>\n",
       "      <td>111.0</td>\n",
       "      <td>NHS 111 Transfer</td>\n",
       "      <td>9008</td>\n",
       "      <td>0</td>\n",
       "      <td>0</td>\n",
       "    </tr>\n",
       "    <tr>\n",
       "      <th>356481</th>\n",
       "      <td>20190101006000</td>\n",
       "      <td>342325</td>\n",
       "      <td>115931621</td>\n",
       "      <td>19806</td>\n",
       "      <td>2019-01-01 20:13:46.000</td>\n",
       "      <td>2019-01-01 20:14:42.000</td>\n",
       "      <td>2019-01-01 20:29:21.000</td>\n",
       "      <td>NaN</td>\n",
       "      <td>NaN</td>\n",
       "      <td>2019-01-01 21:30:05.000</td>\n",
       "      <td>...</td>\n",
       "      <td>NaN</td>\n",
       "      <td>NaN</td>\n",
       "      <td>0</td>\n",
       "      <td>0</td>\n",
       "      <td>C2</td>\n",
       "      <td>111.0</td>\n",
       "      <td>NHS 111 Transfer</td>\n",
       "      <td>9001</td>\n",
       "      <td>0</td>\n",
       "      <td>0</td>\n",
       "    </tr>\n",
       "    <tr>\n",
       "      <th>356482</th>\n",
       "      <td>20190101006002</td>\n",
       "      <td>342327</td>\n",
       "      <td>115931729</td>\n",
       "      <td>22492</td>\n",
       "      <td>2019-01-01 20:14:47.000</td>\n",
       "      <td>2019-01-01 20:19:06.000</td>\n",
       "      <td>2019-01-01 20:26:52.000</td>\n",
       "      <td>2019-01-01 20:46:18.000</td>\n",
       "      <td>2019-01-01 21:02:54.000</td>\n",
       "      <td>2019-01-01 21:27:12.000</td>\n",
       "      <td>...</td>\n",
       "      <td>2019-01-01 20:22:46.000</td>\n",
       "      <td>479.0</td>\n",
       "      <td>0</td>\n",
       "      <td>0</td>\n",
       "      <td>C2</td>\n",
       "      <td>26.0</td>\n",
       "      <td>Sick Person (Specific Diagnosis)</td>\n",
       "      <td>421</td>\n",
       "      <td>1</td>\n",
       "      <td>0</td>\n",
       "    </tr>\n",
       "  </tbody>\n",
       "</table>\n",
       "<p>5 rows × 43 columns</p>\n",
       "</div>"
      ],
      "text/plain": [
       "            incidentid    fpid  activationid  callsignkey  \\\n",
       "356478  20190101005998  342323     115931785        22391   \n",
       "356479  20190101005998  342323     115931928        22394   \n",
       "356480  20190101005999  342324     115931786        22413   \n",
       "356481  20190101006000  342325     115931621        19806   \n",
       "356482  20190101006002  342327     115931729        22492   \n",
       "\n",
       "                      callstart                 dispatch  \\\n",
       "356478  2019-01-01 20:13:27.000  2019-01-01 20:33:29.000   \n",
       "356479  2019-01-01 20:13:27.000  2019-01-01 21:05:13.000   \n",
       "356480  2019-01-01 20:13:43.000  2019-01-01 20:35:08.000   \n",
       "356481  2019-01-01 20:13:46.000  2019-01-01 20:14:42.000   \n",
       "356482  2019-01-01 20:14:47.000  2019-01-01 20:19:06.000   \n",
       "\n",
       "                 arrivedatscene                leftscene  \\\n",
       "356478                      NaN                      NaN   \n",
       "356479  2019-01-01 21:11:30.000                      NaN   \n",
       "356480  2019-01-01 20:43:28.000                      NaN   \n",
       "356481  2019-01-01 20:29:21.000                      NaN   \n",
       "356482  2019-01-01 20:26:52.000  2019-01-01 20:46:18.000   \n",
       "\n",
       "              arrivedathospital                greentime     ...      \\\n",
       "356478                      NaN  2019-01-01 20:58:06.000     ...       \n",
       "356479                      NaN  2019-01-01 22:17:11.000     ...       \n",
       "356480                      NaN  2019-01-02 00:12:22.000     ...       \n",
       "356481                      NaN  2019-01-01 21:30:05.000     ...       \n",
       "356482  2019-01-01 21:02:54.000  2019-01-01 21:27:12.000     ...       \n",
       "\n",
       "                  callconcluded  T0_T5CallConnectToCallConcluded mps  ht  \\\n",
       "356478                      NaN                              NaN   0   0   \n",
       "356479                      NaN                              NaN   0   0   \n",
       "356480                      NaN                              NaN   0   0   \n",
       "356481                      NaN                              NaN   0   0   \n",
       "356482  2019-01-01 20:22:46.000                            479.0   0   0   \n",
       "\n",
       "        dohcategory  chiefcomplaintcode                    chiefcomplaint  \\\n",
       "356478          C3                111.0                  NHS 111 Transfer   \n",
       "356479          C3                111.0                  NHS 111 Transfer   \n",
       "356480          C2                111.0                  NHS 111 Transfer   \n",
       "356481          C2                111.0                  NHS 111 Transfer   \n",
       "356482          C2                 26.0  Sick Person (Specific Diagnosis)   \n",
       "\n",
       "       hospitalcode conveyed conveyed_ed  \n",
       "356478         9023        0           0  \n",
       "356479         9023        0           0  \n",
       "356480         9008        0           0  \n",
       "356481         9001        0           0  \n",
       "356482          421        1           0  \n",
       "\n",
       "[5 rows x 43 columns]"
      ]
     },
     "execution_count": 189,
     "metadata": {},
     "output_type": "execute_result"
    }
   ],
   "source": [
    "responses.tail()"
   ]
  },
  {
   "cell_type": "code",
   "execution_count": 190,
   "metadata": {},
   "outputs": [],
   "source": [
    "#get rid of time, just date responses\n",
    "p2 = responses\n",
    "p2['date'] = pd.to_datetime(p2.callstart).dt.date\n",
    "#responses['date'] = pd.to_datetime(responses.callstart).dt.date"
   ]
  },
  {
   "cell_type": "code",
   "execution_count": 191,
   "metadata": {},
   "outputs": [],
   "source": [
    "#jobcycle sans hospitalturnaround / 3600\n",
    "p2_performance = (p2.groupby('date')['jobcycle'].sum() - p2.groupby('date')['hospitalturnaround'].sum()) / 3600"
   ]
  },
  {
   "cell_type": "code",
   "execution_count": 192,
   "metadata": {},
   "outputs": [],
   "source": [
    "#calculate overall speed of the day\n",
    "p2_to_incident = p2.groupby('date')['activation', 'mobilisation', 'running', 'tohospital'].sum()\n",
    "p2_to_incident['drive_time'] = p2_to_incident.iloc[:, 0:4].sum(axis=1)\n",
    "p2_distance = p2.groupby('date')['distance_to_scene'].sum()\n",
    "p2_speed = p2_distance / p2_to_incident['drive_time']"
   ]
  },
  {
   "cell_type": "code",
   "execution_count": 193,
   "metadata": {},
   "outputs": [],
   "source": [
    "#calculate hospital availability\n",
    "p2_hospital = p2.groupby('date')['hospitalturnaround'].sum() / 3600"
   ]
  },
  {
   "cell_type": "code",
   "execution_count": 194,
   "metadata": {},
   "outputs": [],
   "source": [
    "#concat and merge to get all the factors\n",
    "p2_scm = pd.concat([p2_speed, p2_hospital, p2_performance], axis=1).rename(columns={0:'speed', 1:'performance'})\n",
    "p2_scm.index = pd.to_datetime(p2_scm.index)\n",
    "p2_scm = pd.merge(p2_scm, capacity.loc[:, ['Date', 'DCA aPFVH']], left_index=True, right_on='Date')"
   ]
  },
  {
   "cell_type": "code",
   "execution_count": 195,
   "metadata": {},
   "outputs": [],
   "source": [
    "#rename 'DCA aPFVH' to 'capacity'\n",
    "p2_scm = p2_scm.rename(columns={'DCA aPFVH':'capacity'})\n",
    "#set Date to index\n",
    "p2_scm.set_index('Date', inplace=True)"
   ]
  },
  {
   "cell_type": "code",
   "execution_count": 201,
   "metadata": {},
   "outputs": [
    {
     "data": {
      "text/html": [
       "<div>\n",
       "<style scoped>\n",
       "    .dataframe tbody tr th:only-of-type {\n",
       "        vertical-align: middle;\n",
       "    }\n",
       "\n",
       "    .dataframe tbody tr th {\n",
       "        vertical-align: top;\n",
       "    }\n",
       "\n",
       "    .dataframe thead th {\n",
       "        text-align: right;\n",
       "    }\n",
       "</style>\n",
       "<table border=\"1\" class=\"dataframe\">\n",
       "  <thead>\n",
       "    <tr style=\"text-align: right;\">\n",
       "      <th></th>\n",
       "      <th>speed</th>\n",
       "      <th>hospitalturnaround</th>\n",
       "      <th>performance</th>\n",
       "      <th>capacity</th>\n",
       "    </tr>\n",
       "    <tr>\n",
       "      <th>Date</th>\n",
       "      <th></th>\n",
       "      <th></th>\n",
       "      <th></th>\n",
       "      <th></th>\n",
       "    </tr>\n",
       "  </thead>\n",
       "  <tbody>\n",
       "    <tr>\n",
       "      <th>2018-02-23</th>\n",
       "      <td>1.409431</td>\n",
       "      <td>1462.972500</td>\n",
       "      <td>4251.687778</td>\n",
       "      <td>4876.866667</td>\n",
       "    </tr>\n",
       "    <tr>\n",
       "      <th>2018-02-24</th>\n",
       "      <td>1.330703</td>\n",
       "      <td>1409.465556</td>\n",
       "      <td>4231.288333</td>\n",
       "      <td>4584.983333</td>\n",
       "    </tr>\n",
       "    <tr>\n",
       "      <th>2018-02-25</th>\n",
       "      <td>1.382970</td>\n",
       "      <td>1385.304722</td>\n",
       "      <td>4035.702778</td>\n",
       "      <td>4465.400000</td>\n",
       "    </tr>\n",
       "    <tr>\n",
       "      <th>2018-02-26</th>\n",
       "      <td>1.638320</td>\n",
       "      <td>1652.871111</td>\n",
       "      <td>4153.355556</td>\n",
       "      <td>4930.800000</td>\n",
       "    </tr>\n",
       "    <tr>\n",
       "      <th>2018-02-27</th>\n",
       "      <td>1.655712</td>\n",
       "      <td>1559.027778</td>\n",
       "      <td>4191.337500</td>\n",
       "      <td>5028.316667</td>\n",
       "    </tr>\n",
       "  </tbody>\n",
       "</table>\n",
       "</div>"
      ],
      "text/plain": [
       "               speed  hospitalturnaround  performance     capacity\n",
       "Date                                                              \n",
       "2018-02-23  1.409431         1462.972500  4251.687778  4876.866667\n",
       "2018-02-24  1.330703         1409.465556  4231.288333  4584.983333\n",
       "2018-02-25  1.382970         1385.304722  4035.702778  4465.400000\n",
       "2018-02-26  1.638320         1652.871111  4153.355556  4930.800000\n",
       "2018-02-27  1.655712         1559.027778  4191.337500  5028.316667"
      ]
     },
     "execution_count": 201,
     "metadata": {},
     "output_type": "execute_result"
    }
   ],
   "source": [
    "p2_scm.head()"
   ]
  },
  {
   "cell_type": "code",
   "execution_count": null,
   "metadata": {},
   "outputs": [],
   "source": []
  },
  {
   "cell_type": "code",
   "execution_count": 197,
   "metadata": {},
   "outputs": [],
   "source": [
    "#standardize the dataset\n",
    "scaler = preprocessing.StandardScaler()\n",
    "p2_scm_normalized = scaler.fit_transform(p2_scm)\n",
    "p2_scm_normalized = pd.DataFrame(p2_scm_normalized, columns=p2_scm.columns)"
   ]
  },
  {
   "cell_type": "code",
   "execution_count": null,
   "metadata": {},
   "outputs": [],
   "source": []
  },
  {
   "cell_type": "code",
   "execution_count": 198,
   "metadata": {},
   "outputs": [
    {
     "data": {
      "text/html": [
       "<div>\n",
       "<style scoped>\n",
       "    .dataframe tbody tr th:only-of-type {\n",
       "        vertical-align: middle;\n",
       "    }\n",
       "\n",
       "    .dataframe tbody tr th {\n",
       "        vertical-align: top;\n",
       "    }\n",
       "\n",
       "    .dataframe thead th {\n",
       "        text-align: right;\n",
       "    }\n",
       "</style>\n",
       "<table border=\"1\" class=\"dataframe\">\n",
       "  <thead>\n",
       "    <tr style=\"text-align: right;\">\n",
       "      <th></th>\n",
       "      <th>speed</th>\n",
       "      <th>hospitalturnaround</th>\n",
       "      <th>performance</th>\n",
       "      <th>capacity</th>\n",
       "    </tr>\n",
       "  </thead>\n",
       "  <tbody>\n",
       "    <tr>\n",
       "      <th>0</th>\n",
       "      <td>-1.201479</td>\n",
       "      <td>0.308800</td>\n",
       "      <td>0.368030</td>\n",
       "      <td>-0.085841</td>\n",
       "    </tr>\n",
       "    <tr>\n",
       "      <th>1</th>\n",
       "      <td>-1.548382</td>\n",
       "      <td>-0.044476</td>\n",
       "      <td>0.314536</td>\n",
       "      <td>-1.199958</td>\n",
       "    </tr>\n",
       "    <tr>\n",
       "      <th>2</th>\n",
       "      <td>-1.318074</td>\n",
       "      <td>-0.203997</td>\n",
       "      <td>-0.198352</td>\n",
       "      <td>-1.656407</td>\n",
       "    </tr>\n",
       "    <tr>\n",
       "      <th>3</th>\n",
       "      <td>-0.192912</td>\n",
       "      <td>1.562595</td>\n",
       "      <td>0.110171</td>\n",
       "      <td>0.120023</td>\n",
       "    </tr>\n",
       "    <tr>\n",
       "      <th>4</th>\n",
       "      <td>-0.116278</td>\n",
       "      <td>0.943000</td>\n",
       "      <td>0.209772</td>\n",
       "      <td>0.492244</td>\n",
       "    </tr>\n",
       "  </tbody>\n",
       "</table>\n",
       "</div>"
      ],
      "text/plain": [
       "      speed  hospitalturnaround  performance  capacity\n",
       "0 -1.201479            0.308800     0.368030 -0.085841\n",
       "1 -1.548382           -0.044476     0.314536 -1.199958\n",
       "2 -1.318074           -0.203997    -0.198352 -1.656407\n",
       "3 -0.192912            1.562595     0.110171  0.120023\n",
       "4 -0.116278            0.943000     0.209772  0.492244"
      ]
     },
     "execution_count": 198,
     "metadata": {},
     "output_type": "execute_result"
    }
   ],
   "source": [
    "p2_scm_normalized.head()"
   ]
  },
  {
   "cell_type": "code",
   "execution_count": 199,
   "metadata": {},
   "outputs": [
    {
     "data": {
      "text/plain": [
       "<seaborn.axisgrid.PairGrid at 0x163d21908>"
      ]
     },
     "execution_count": 199,
     "metadata": {},
     "output_type": "execute_result"
    },
    {
     "data": {
      "image/png": "[encoded data removed]",
      "text/plain": [
       "<Figure size 720x720 with 20 Axes>"
      ]
     },
     "metadata": {
      "needs_background": "light"
     },
     "output_type": "display_data"
    }
   ],
   "source": [
    "sns.pairplot(p2_scm_normalized)"
   ]
  },
  {
   "cell_type": "code",
   "execution_count": 200,
   "metadata": {},
   "outputs": [
    {
     "data": {
      "text/html": [
       "<table class=\"simpletable\">\n",
       "<caption>OLS Regression Results</caption>\n",
       "<tr>\n",
       "  <th>Dep. Variable:</th>       <td>performance</td>   <th>  R-squared:         </th> <td>   0.719</td>\n",
       "</tr>\n",
       "<tr>\n",
       "  <th>Model:</th>                   <td>OLS</td>       <th>  Adj. R-squared:    </th> <td>   0.716</td>\n",
       "</tr>\n",
       "<tr>\n",
       "  <th>Method:</th>             <td>Least Squares</td>  <th>  F-statistic:       </th> <td>   263.4</td>\n",
       "</tr>\n",
       "<tr>\n",
       "  <th>Date:</th>             <td>Thu, 21 Mar 2019</td> <th>  Prob (F-statistic):</th> <td>8.66e-85</td>\n",
       "</tr>\n",
       "<tr>\n",
       "  <th>Time:</th>                 <td>13:44:48</td>     <th>  Log-Likelihood:    </th> <td> -245.55</td>\n",
       "</tr>\n",
       "<tr>\n",
       "  <th>No. Observations:</th>      <td>   313</td>      <th>  AIC:               </th> <td>   499.1</td>\n",
       "</tr>\n",
       "<tr>\n",
       "  <th>Df Residuals:</th>          <td>   309</td>      <th>  BIC:               </th> <td>   514.1</td>\n",
       "</tr>\n",
       "<tr>\n",
       "  <th>Df Model:</th>              <td>     3</td>      <th>                     </th>     <td> </td>   \n",
       "</tr>\n",
       "<tr>\n",
       "  <th>Covariance Type:</th>      <td>nonrobust</td>    <th>                     </th>     <td> </td>   \n",
       "</tr>\n",
       "</table>\n",
       "<table class=\"simpletable\">\n",
       "<tr>\n",
       "           <td></td>             <th>coef</th>     <th>std err</th>      <th>t</th>      <th>P>|t|</th>  <th>[0.025</th>    <th>0.975]</th>  \n",
       "</tr>\n",
       "<tr>\n",
       "  <th>Intercept</th>          <td> 9.819e-16</td> <td>    0.030</td> <td> 3.26e-14</td> <td> 1.000</td> <td>   -0.059</td> <td>    0.059</td>\n",
       "</tr>\n",
       "<tr>\n",
       "  <th>speed</th>              <td>   -0.0364</td> <td>    0.036</td> <td>   -1.001</td> <td> 0.317</td> <td>   -0.108</td> <td>    0.035</td>\n",
       "</tr>\n",
       "<tr>\n",
       "  <th>hospitalturnaround</th> <td>    0.8614</td> <td>    0.040</td> <td>   21.663</td> <td> 0.000</td> <td>    0.783</td> <td>    0.940</td>\n",
       "</tr>\n",
       "<tr>\n",
       "  <th>capacity</th>           <td>   -0.0634</td> <td>    0.039</td> <td>   -1.643</td> <td> 0.101</td> <td>   -0.139</td> <td>    0.013</td>\n",
       "</tr>\n",
       "</table>\n",
       "<table class=\"simpletable\">\n",
       "<tr>\n",
       "  <th>Omnibus:</th>       <td>46.105</td> <th>  Durbin-Watson:     </th> <td>   0.813</td>\n",
       "</tr>\n",
       "<tr>\n",
       "  <th>Prob(Omnibus):</th> <td> 0.000</td> <th>  Jarque-Bera (JB):  </th> <td> 259.294</td>\n",
       "</tr>\n",
       "<tr>\n",
       "  <th>Skew:</th>          <td>-0.398</td> <th>  Prob(JB):          </th> <td>4.96e-57</td>\n",
       "</tr>\n",
       "<tr>\n",
       "  <th>Kurtosis:</th>      <td> 7.387</td> <th>  Cond. No.          </th> <td>    2.22</td>\n",
       "</tr>\n",
       "</table><br/><br/>Warnings:<br/>[1] Standard Errors assume that the covariance matrix of the errors is correctly specified."
      ],
      "text/plain": [
       "<class 'statsmodels.iolib.summary.Summary'>\n",
       "\"\"\"\n",
       "                            OLS Regression Results                            \n",
       "==============================================================================\n",
       "Dep. Variable:            performance   R-squared:                       0.719\n",
       "Model:                            OLS   Adj. R-squared:                  0.716\n",
       "Method:                 Least Squares   F-statistic:                     263.4\n",
       "Date:                Thu, 21 Mar 2019   Prob (F-statistic):           8.66e-85\n",
       "Time:                        13:44:48   Log-Likelihood:                -245.55\n",
       "No. Observations:                 313   AIC:                             499.1\n",
       "Df Residuals:                     309   BIC:                             514.1\n",
       "Df Model:                           3                                         \n",
       "Covariance Type:            nonrobust                                         \n",
       "======================================================================================\n",
       "                         coef    std err          t      P>|t|      [0.025      0.975]\n",
       "--------------------------------------------------------------------------------------\n",
       "Intercept           9.819e-16      0.030   3.26e-14      1.000      -0.059       0.059\n",
       "speed                 -0.0364      0.036     -1.001      0.317      -0.108       0.035\n",
       "hospitalturnaround     0.8614      0.040     21.663      0.000       0.783       0.940\n",
       "capacity              -0.0634      0.039     -1.643      0.101      -0.139       0.013\n",
       "==============================================================================\n",
       "Omnibus:                       46.105   Durbin-Watson:                   0.813\n",
       "Prob(Omnibus):                  0.000   Jarque-Bera (JB):              259.294\n",
       "Skew:                          -0.398   Prob(JB):                     4.96e-57\n",
       "Kurtosis:                       7.387   Cond. No.                         2.22\n",
       "==============================================================================\n",
       "\n",
       "Warnings:\n",
       "[1] Standard Errors assume that the covariance matrix of the errors is correctly specified.\n",
       "\"\"\""
      ]
     },
     "execution_count": 200,
     "metadata": {},
     "output_type": "execute_result"
    }
   ],
   "source": [
    "model = sm.formula.ols('performance ~ speed + hospitalturnaround + capacity', data=p2_scm_normalized)\n",
    "result = model.fit()\n",
    "result.summary()"
   ]
  },
  {
   "cell_type": "code",
   "execution_count": null,
   "metadata": {},
   "outputs": [],
   "source": []
  },
  {
   "cell_type": "code",
   "execution_count": null,
   "metadata": {},
   "outputs": [],
   "source": []
  },
  {
   "cell_type": "code",
   "execution_count": 163,
   "metadata": {},
   "outputs": [
    {
     "data": {
      "text/html": [
       "<table class=\"simpletable\">\n",
       "<caption>OLS Regression Results</caption>\n",
       "<tr>\n",
       "  <th>Dep. Variable:</th>      <td>response_aqi</td>   <th>  R-squared:         </th> <td>   0.903</td>\n",
       "</tr>\n",
       "<tr>\n",
       "  <th>Model:</th>                   <td>OLS</td>       <th>  Adj. R-squared:    </th> <td>   0.901</td>\n",
       "</tr>\n",
       "<tr>\n",
       "  <th>Method:</th>             <td>Least Squares</td>  <th>  F-statistic:       </th> <td>   548.5</td>\n",
       "</tr>\n",
       "<tr>\n",
       "  <th>Date:</th>             <td>Thu, 21 Mar 2019</td> <th>  Prob (F-statistic):</th> <td>1.45e-31</td>\n",
       "</tr>\n",
       "<tr>\n",
       "  <th>Time:</th>                 <td>00:35:57</td>     <th>  Log-Likelihood:    </th> <td> -15.437</td>\n",
       "</tr>\n",
       "<tr>\n",
       "  <th>No. Observations:</th>      <td>    61</td>      <th>  AIC:               </th> <td>   34.87</td>\n",
       "</tr>\n",
       "<tr>\n",
       "  <th>Df Residuals:</th>          <td>    59</td>      <th>  BIC:               </th> <td>   39.10</td>\n",
       "</tr>\n",
       "<tr>\n",
       "  <th>Df Model:</th>              <td>     1</td>      <th>                     </th>     <td> </td>   \n",
       "</tr>\n",
       "<tr>\n",
       "  <th>Covariance Type:</th>      <td>nonrobust</td>    <th>                     </th>     <td> </td>   \n",
       "</tr>\n",
       "</table>\n",
       "<table class=\"simpletable\">\n",
       "<tr>\n",
       "      <td></td>         <th>coef</th>     <th>std err</th>      <th>t</th>      <th>P>|t|</th>  <th>[0.025</th>    <th>0.975]</th>  \n",
       "</tr>\n",
       "<tr>\n",
       "  <th>Intercept</th> <td> 6.106e-16</td> <td>    0.041</td> <td>  1.5e-14</td> <td> 1.000</td> <td>   -0.081</td> <td>    0.081</td>\n",
       "</tr>\n",
       "<tr>\n",
       "  <th>speed</th>     <td>   -0.9502</td> <td>    0.041</td> <td>  -23.419</td> <td> 0.000</td> <td>   -1.031</td> <td>   -0.869</td>\n",
       "</tr>\n",
       "</table>\n",
       "<table class=\"simpletable\">\n",
       "<tr>\n",
       "  <th>Omnibus:</th>       <td>19.682</td> <th>  Durbin-Watson:     </th> <td>   1.250</td>\n",
       "</tr>\n",
       "<tr>\n",
       "  <th>Prob(Omnibus):</th> <td> 0.000</td> <th>  Jarque-Bera (JB):  </th> <td>  28.299</td>\n",
       "</tr>\n",
       "<tr>\n",
       "  <th>Skew:</th>          <td> 1.198</td> <th>  Prob(JB):          </th> <td>7.16e-07</td>\n",
       "</tr>\n",
       "<tr>\n",
       "  <th>Kurtosis:</th>      <td> 5.322</td> <th>  Cond. No.          </th> <td>    1.00</td>\n",
       "</tr>\n",
       "</table><br/><br/>Warnings:<br/>[1] Standard Errors assume that the covariance matrix of the errors is correctly specified."
      ],
      "text/plain": [
       "<class 'statsmodels.iolib.summary.Summary'>\n",
       "\"\"\"\n",
       "                            OLS Regression Results                            \n",
       "==============================================================================\n",
       "Dep. Variable:           response_aqi   R-squared:                       0.903\n",
       "Model:                            OLS   Adj. R-squared:                  0.901\n",
       "Method:                 Least Squares   F-statistic:                     548.5\n",
       "Date:                Thu, 21 Mar 2019   Prob (F-statistic):           1.45e-31\n",
       "Time:                        00:35:57   Log-Likelihood:                -15.437\n",
       "No. Observations:                  61   AIC:                             34.87\n",
       "Df Residuals:                      59   BIC:                             39.10\n",
       "Df Model:                           1                                         \n",
       "Covariance Type:            nonrobust                                         \n",
       "==============================================================================\n",
       "                 coef    std err          t      P>|t|      [0.025      0.975]\n",
       "------------------------------------------------------------------------------\n",
       "Intercept   6.106e-16      0.041    1.5e-14      1.000      -0.081       0.081\n",
       "speed         -0.9502      0.041    -23.419      0.000      -1.031      -0.869\n",
       "==============================================================================\n",
       "Omnibus:                       19.682   Durbin-Watson:                   1.250\n",
       "Prob(Omnibus):                  0.000   Jarque-Bera (JB):               28.299\n",
       "Skew:                           1.198   Prob(JB):                     7.16e-07\n",
       "Kurtosis:                       5.322   Cond. No.                         1.00\n",
       "==============================================================================\n",
       "\n",
       "Warnings:\n",
       "[1] Standard Errors assume that the covariance matrix of the errors is correctly specified.\n",
       "\"\"\""
      ]
     },
     "execution_count": 163,
     "metadata": {},
     "output_type": "execute_result"
    }
   ],
   "source": [
    "model = sm.formula.ols('response_aqi ~ speed', data=p2_scm_normalized)\n",
    "result = model.fit()\n",
    "result.summary()"
   ]
  },
  {
   "cell_type": "code",
   "execution_count": 186,
   "metadata": {},
   "outputs": [
    {
     "data": {
      "text/plain": [
       "Intercept             6.418477e-17\n",
       "speed                 1.107207e-01\n",
       "hospitalturnaround    1.061790e+00\n",
       "capacity             -1.710488e-01\n",
       "dtype: float64"
      ]
     },
     "execution_count": 186,
     "metadata": {},
     "output_type": "execute_result"
    }
   ],
   "source": [
    "model = sm.formula.ols('performance ~ speed + hospitalturnaround + capacity', data=p2_scm_normalized)\n",
    "result = model.fit()\n",
    "result.summary()"
   ]
  },
  {
   "cell_type": "code",
   "execution_count": 187,
   "metadata": {},
   "outputs": [
    {
     "data": {
      "text/html": [
       "<table class=\"simpletable\">\n",
       "<caption>OLS Regression Results</caption>\n",
       "<tr>\n",
       "  <th>Dep. Variable:</th>       <td>performance</td>   <th>  R-squared:         </th> <td>   0.878</td>\n",
       "</tr>\n",
       "<tr>\n",
       "  <th>Model:</th>                   <td>OLS</td>       <th>  Adj. R-squared:    </th> <td>   0.872</td>\n",
       "</tr>\n",
       "<tr>\n",
       "  <th>Method:</th>             <td>Least Squares</td>  <th>  F-statistic:       </th> <td>   137.0</td>\n",
       "</tr>\n",
       "<tr>\n",
       "  <th>Date:</th>             <td>Thu, 21 Mar 2019</td> <th>  Prob (F-statistic):</th> <td>5.00e-26</td>\n",
       "</tr>\n",
       "<tr>\n",
       "  <th>Time:</th>                 <td>13:39:57</td>     <th>  Log-Likelihood:    </th> <td> -22.341</td>\n",
       "</tr>\n",
       "<tr>\n",
       "  <th>No. Observations:</th>      <td>    61</td>      <th>  AIC:               </th> <td>   52.68</td>\n",
       "</tr>\n",
       "<tr>\n",
       "  <th>Df Residuals:</th>          <td>    57</td>      <th>  BIC:               </th> <td>   61.13</td>\n",
       "</tr>\n",
       "<tr>\n",
       "  <th>Df Model:</th>              <td>     3</td>      <th>                     </th>     <td> </td>   \n",
       "</tr>\n",
       "<tr>\n",
       "  <th>Covariance Type:</th>      <td>nonrobust</td>    <th>                     </th>     <td> </td>   \n",
       "</tr>\n",
       "</table>\n",
       "<table class=\"simpletable\">\n",
       "<tr>\n",
       "           <td></td>             <th>coef</th>     <th>std err</th>      <th>t</th>      <th>P>|t|</th>  <th>[0.025</th>    <th>0.975]</th>  \n",
       "</tr>\n",
       "<tr>\n",
       "  <th>Intercept</th>          <td> 6.418e-17</td> <td>    0.046</td> <td> 1.39e-15</td> <td> 1.000</td> <td>   -0.093</td> <td>    0.093</td>\n",
       "</tr>\n",
       "<tr>\n",
       "  <th>speed</th>              <td>    0.1107</td> <td>    0.059</td> <td>    1.872</td> <td> 0.066</td> <td>   -0.008</td> <td>    0.229</td>\n",
       "</tr>\n",
       "<tr>\n",
       "  <th>hospitalturnaround</th> <td>    1.0618</td> <td>    0.066</td> <td>   16.066</td> <td> 0.000</td> <td>    0.929</td> <td>    1.194</td>\n",
       "</tr>\n",
       "<tr>\n",
       "  <th>capacity</th>           <td>   -0.1710</td> <td>    0.056</td> <td>   -3.065</td> <td> 0.003</td> <td>   -0.283</td> <td>   -0.059</td>\n",
       "</tr>\n",
       "</table>\n",
       "<table class=\"simpletable\">\n",
       "<tr>\n",
       "  <th>Omnibus:</th>       <td> 4.401</td> <th>  Durbin-Watson:     </th> <td>   1.109</td>\n",
       "</tr>\n",
       "<tr>\n",
       "  <th>Prob(Omnibus):</th> <td> 0.111</td> <th>  Jarque-Bera (JB):  </th> <td>   3.651</td>\n",
       "</tr>\n",
       "<tr>\n",
       "  <th>Skew:</th>          <td>-0.587</td> <th>  Prob(JB):          </th> <td>   0.161</td>\n",
       "</tr>\n",
       "<tr>\n",
       "  <th>Kurtosis:</th>      <td> 3.240</td> <th>  Cond. No.          </th> <td>    2.45</td>\n",
       "</tr>\n",
       "</table><br/><br/>Warnings:<br/>[1] Standard Errors assume that the covariance matrix of the errors is correctly specified."
      ],
      "text/plain": [
       "<class 'statsmodels.iolib.summary.Summary'>\n",
       "\"\"\"\n",
       "                            OLS Regression Results                            \n",
       "==============================================================================\n",
       "Dep. Variable:            performance   R-squared:                       0.878\n",
       "Model:                            OLS   Adj. R-squared:                  0.872\n",
       "Method:                 Least Squares   F-statistic:                     137.0\n",
       "Date:                Thu, 21 Mar 2019   Prob (F-statistic):           5.00e-26\n",
       "Time:                        13:39:57   Log-Likelihood:                -22.341\n",
       "No. Observations:                  61   AIC:                             52.68\n",
       "Df Residuals:                      57   BIC:                             61.13\n",
       "Df Model:                           3                                         \n",
       "Covariance Type:            nonrobust                                         \n",
       "======================================================================================\n",
       "                         coef    std err          t      P>|t|      [0.025      0.975]\n",
       "--------------------------------------------------------------------------------------\n",
       "Intercept           6.418e-17      0.046   1.39e-15      1.000      -0.093       0.093\n",
       "speed                  0.1107      0.059      1.872      0.066      -0.008       0.229\n",
       "hospitalturnaround     1.0618      0.066     16.066      0.000       0.929       1.194\n",
       "capacity              -0.1710      0.056     -3.065      0.003      -0.283      -0.059\n",
       "==============================================================================\n",
       "Omnibus:                        4.401   Durbin-Watson:                   1.109\n",
       "Prob(Omnibus):                  0.111   Jarque-Bera (JB):                3.651\n",
       "Skew:                          -0.587   Prob(JB):                        0.161\n",
       "Kurtosis:                       3.240   Cond. No.                         2.45\n",
       "==============================================================================\n",
       "\n",
       "Warnings:\n",
       "[1] Standard Errors assume that the covariance matrix of the errors is correctly specified.\n",
       "\"\"\""
      ]
     },
     "execution_count": 187,
     "metadata": {},
     "output_type": "execute_result"
    }
   ],
   "source": [
    "result.summary()"
   ]
  },
  {
   "cell_type": "code",
   "execution_count": 96,
   "metadata": {},
   "outputs": [
    {
     "data": {
      "text/plain": [
       "Intercept             2162.269385\n",
       "speed                  234.437202\n",
       "hospitalturnaround       2.562447\n",
       "capacity                -0.463448\n",
       "dtype: float64"
      ]
     },
     "execution_count": 96,
     "metadata": {},
     "output_type": "execute_result"
    }
   ],
   "source": [
    "model = sm.formula.ols('performance ~ speed + hospitalturnaround + capacity', data=p2_scm_normalized)\n",
    "result = model.fit()\n",
    "result.params"
   ]
  },
  {
   "cell_type": "code",
   "execution_count": 99,
   "metadata": {},
   "outputs": [
    {
     "data": {
      "text/html": [
       "<table class=\"simpletable\">\n",
       "<caption>OLS Regression Results</caption>\n",
       "<tr>\n",
       "  <th>Dep. Variable:</th>       <td>performance</td>   <th>  R-squared:         </th> <td>   0.878</td>\n",
       "</tr>\n",
       "<tr>\n",
       "  <th>Model:</th>                   <td>OLS</td>       <th>  Adj. R-squared:    </th> <td>   0.872</td>\n",
       "</tr>\n",
       "<tr>\n",
       "  <th>Method:</th>             <td>Least Squares</td>  <th>  F-statistic:       </th> <td>   137.0</td>\n",
       "</tr>\n",
       "<tr>\n",
       "  <th>Date:</th>             <td>Wed, 20 Mar 2019</td> <th>  Prob (F-statistic):</th> <td>5.00e-26</td>\n",
       "</tr>\n",
       "<tr>\n",
       "  <th>Time:</th>                 <td>22:25:32</td>     <th>  Log-Likelihood:    </th> <td> -412.06</td>\n",
       "</tr>\n",
       "<tr>\n",
       "  <th>No. Observations:</th>      <td>    61</td>      <th>  AIC:               </th> <td>   832.1</td>\n",
       "</tr>\n",
       "<tr>\n",
       "  <th>Df Residuals:</th>          <td>    57</td>      <th>  BIC:               </th> <td>   840.6</td>\n",
       "</tr>\n",
       "<tr>\n",
       "  <th>Df Model:</th>              <td>     3</td>      <th>                     </th>     <td> </td>   \n",
       "</tr>\n",
       "<tr>\n",
       "  <th>Covariance Type:</th>      <td>nonrobust</td>    <th>                     </th>     <td> </td>   \n",
       "</tr>\n",
       "</table>\n",
       "<table class=\"simpletable\">\n",
       "<tr>\n",
       "           <td></td>             <th>coef</th>     <th>std err</th>      <th>t</th>      <th>P>|t|</th>  <th>[0.025</th>    <th>0.975]</th>  \n",
       "</tr>\n",
       "<tr>\n",
       "  <th>Intercept</th>          <td> 2162.2694</td> <td>  630.880</td> <td>    3.427</td> <td> 0.001</td> <td>  898.955</td> <td> 3425.584</td>\n",
       "</tr>\n",
       "<tr>\n",
       "  <th>speed</th>              <td>  234.4372</td> <td>  125.201</td> <td>    1.872</td> <td> 0.066</td> <td>  -16.273</td> <td>  485.147</td>\n",
       "</tr>\n",
       "<tr>\n",
       "  <th>hospitalturnaround</th> <td>    2.5624</td> <td>    0.159</td> <td>   16.066</td> <td> 0.000</td> <td>    2.243</td> <td>    2.882</td>\n",
       "</tr>\n",
       "<tr>\n",
       "  <th>capacity</th>           <td>   -0.4634</td> <td>    0.151</td> <td>   -3.065</td> <td> 0.003</td> <td>   -0.766</td> <td>   -0.161</td>\n",
       "</tr>\n",
       "</table>\n",
       "<table class=\"simpletable\">\n",
       "<tr>\n",
       "  <th>Omnibus:</th>       <td> 4.401</td> <th>  Durbin-Watson:     </th> <td>   1.109</td>\n",
       "</tr>\n",
       "<tr>\n",
       "  <th>Prob(Omnibus):</th> <td> 0.111</td> <th>  Jarque-Bera (JB):  </th> <td>   3.651</td>\n",
       "</tr>\n",
       "<tr>\n",
       "  <th>Skew:</th>          <td>-0.587</td> <th>  Prob(JB):          </th> <td>   0.161</td>\n",
       "</tr>\n",
       "<tr>\n",
       "  <th>Kurtosis:</th>      <td> 3.240</td> <th>  Cond. No.          </th> <td>1.17e+05</td>\n",
       "</tr>\n",
       "</table><br/><br/>Warnings:<br/>[1] Standard Errors assume that the covariance matrix of the errors is correctly specified.<br/>[2] The condition number is large, 1.17e+05. This might indicate that there are<br/>strong multicollinearity or other numerical problems."
      ],
      "text/plain": [
       "<class 'statsmodels.iolib.summary.Summary'>\n",
       "\"\"\"\n",
       "                            OLS Regression Results                            \n",
       "==============================================================================\n",
       "Dep. Variable:            performance   R-squared:                       0.878\n",
       "Model:                            OLS   Adj. R-squared:                  0.872\n",
       "Method:                 Least Squares   F-statistic:                     137.0\n",
       "Date:                Wed, 20 Mar 2019   Prob (F-statistic):           5.00e-26\n",
       "Time:                        22:25:32   Log-Likelihood:                -412.06\n",
       "No. Observations:                  61   AIC:                             832.1\n",
       "Df Residuals:                      57   BIC:                             840.6\n",
       "Df Model:                           3                                         \n",
       "Covariance Type:            nonrobust                                         \n",
       "======================================================================================\n",
       "                         coef    std err          t      P>|t|      [0.025      0.975]\n",
       "--------------------------------------------------------------------------------------\n",
       "Intercept           2162.2694    630.880      3.427      0.001     898.955    3425.584\n",
       "speed                234.4372    125.201      1.872      0.066     -16.273     485.147\n",
       "hospitalturnaround     2.5624      0.159     16.066      0.000       2.243       2.882\n",
       "capacity              -0.4634      0.151     -3.065      0.003      -0.766      -0.161\n",
       "==============================================================================\n",
       "Omnibus:                        4.401   Durbin-Watson:                   1.109\n",
       "Prob(Omnibus):                  0.111   Jarque-Bera (JB):                3.651\n",
       "Skew:                          -0.587   Prob(JB):                        0.161\n",
       "Kurtosis:                       3.240   Cond. No.                     1.17e+05\n",
       "==============================================================================\n",
       "\n",
       "Warnings:\n",
       "[1] Standard Errors assume that the covariance matrix of the errors is correctly specified.\n",
       "[2] The condition number is large, 1.17e+05. This might indicate that there are\n",
       "strong multicollinearity or other numerical problems.\n",
       "\"\"\""
      ]
     },
     "execution_count": 99,
     "metadata": {},
     "output_type": "execute_result"
    }
   ],
   "source": [
    "result.summary()"
   ]
  },
  {
   "cell_type": "code",
   "execution_count": null,
   "metadata": {},
   "outputs": [],
   "source": []
  }
 ],
 "metadata": {
  "kernelspec": {
   "display_name": "Python 3",
   "language": "python",
   "name": "python3"
  },
  "language_info": {
   "codemirror_mode": {
    "name": "ipython",
    "version": 3
   },
   "file_extension": ".py",
   "mimetype": "text/x-python",
   "name": "python",
   "nbconvert_exporter": "python",
   "pygments_lexer": "ipython3",
   "version": "3.6.8"
  }
 },
 "nbformat": 4,
 "nbformat_minor": 2
}
