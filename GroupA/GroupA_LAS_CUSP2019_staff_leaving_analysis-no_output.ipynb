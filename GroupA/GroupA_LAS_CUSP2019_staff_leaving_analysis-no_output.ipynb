{
 "cells": [
  {
   "cell_type": "markdown",
   "metadata": {},
   "source": [
    "## CUSP London Data Dive 2019, London Ambulance Service Data, Group A "
   ]
  },
  {
   "cell_type": "markdown",
   "metadata": {},
   "source": [
    "Research question: Is travel distance to place of work associated with reason for leaving?"
   ]
  },
  {
   "cell_type": "code",
   "execution_count": null,
   "metadata": {},
   "outputs": [],
   "source": [
    "import pandas as pd\n",
    "import geopandas as gpd\n",
    "import shapely\n",
    "from matplotlib import pyplot as plt\n",
    "import numpy as np\n",
    "import pysal as ps\n",
    "import pygeoprocessing\n",
    "import sklearn\n",
    "\n",
    "%matplotlib inline"
   ]
  },
  {
   "cell_type": "code",
   "execution_count": null,
   "metadata": {},
   "outputs": [],
   "source": [
    "datadir = '/Users/lucieburgess/Documents/CUSP_data_dive_2019/data/Workforce_Data/'\n",
    "leavers = pd.read_csv(datadir + 'LAS_Leavers_070319.csv')\n",
    "staff = pd.read_csv(datadir + 'LAS_Staff_in_Post_070319.csv')\n",
    "work_locations = pd.read_csv(datadir + 'workplace_location_table.csv')\n"
   ]
  },
  {
   "cell_type": "code",
   "execution_count": null,
   "metadata": {},
   "outputs": [],
   "source": [
    "leavers.head()"
   ]
  },
  {
   "cell_type": "code",
   "execution_count": null,
   "metadata": {},
   "outputs": [],
   "source": [
    "leavers.groupby('Job Role').describe()"
   ]
  },
  {
   "cell_type": "code",
   "execution_count": null,
   "metadata": {},
   "outputs": [],
   "source": [
    "df = leavers[['Job Role','Employee Number']].groupby(['Job Role'])['Employee Number'].size().reset_index(name='count').sort_values('count', ascending=False)\n",
    "print(df)"
   ]
  },
  {
   "cell_type": "code",
   "execution_count": null,
   "metadata": {},
   "outputs": [],
   "source": [
    "staff.columns"
   ]
  },
  {
   "cell_type": "code",
   "execution_count": null,
   "metadata": {},
   "outputs": [],
   "source": [
    "staff.head()"
   ]
  },
  {
   "cell_type": "code",
   "execution_count": null,
   "metadata": {},
   "outputs": [],
   "source": [
    "# Postcode translated to a lat, long co-ordinate and a easting and northing using an online tool\n",
    "work_locations.columns"
   ]
  },
  {
   "cell_type": "code",
   "execution_count": null,
   "metadata": {},
   "outputs": [],
   "source": [
    "work_locations.head()"
   ]
  },
  {
   "cell_type": "code",
   "execution_count": null,
   "metadata": {},
   "outputs": [],
   "source": [
    "work_locations = work_locations.drop(['manual'], axis=1)"
   ]
  },
  {
   "cell_type": "code",
   "execution_count": null,
   "metadata": {},
   "outputs": [],
   "source": [
    "# Link the locations to the workforce data and convert to a geopandas dataframe\n",
    "# rename 'esrLocationFull' in work_locations and 'Location' in staff to 'ambulance_station_location'\n",
    "\n",
    "work_locations.rename(columns={'esrLocationFull':'ambulance_station_location'}, inplace=True)\n",
    "staff.rename(columns={'Location' : 'ambulance_station_location'},inplace = True)\n",
    "\n",
    "staff = pd.merge(staff, work_locations, how='inner', on=['ambulance_station_location'])"
   ]
  },
  {
   "cell_type": "code",
   "execution_count": null,
   "metadata": {},
   "outputs": [],
   "source": [
    "staff.columns"
   ]
  },
  {
   "cell_type": "code",
   "execution_count": null,
   "metadata": {},
   "outputs": [],
   "source": [
    "# Convert Easting and Northing to int as currently strings\n",
    "# NB. astype(np.int64) doesn't work because of NaNs.\n",
    "\n",
    "staff['work_location_easting'] = pd.to_numeric(staff['work_location_easting'], errors='coerce')\n",
    "staff['work_location_northing'] = pd.to_numeric(staff['work_location_northing'], errors='coerce')"
   ]
  },
  {
   "cell_type": "code",
   "execution_count": null,
   "metadata": {},
   "outputs": [],
   "source": [
    "staff['work_coords'] = list(zip(staff.work_location_easting, staff.work_location_northing))"
   ]
  },
  {
   "cell_type": "code",
   "execution_count": null,
   "metadata": {},
   "outputs": [],
   "source": [
    "staff['work_coords'] = staff['work_coords'].apply(Point)"
   ]
  },
  {
   "cell_type": "code",
   "execution_count": null,
   "metadata": {},
   "outputs": [],
   "source": [
    "# geo-coded home postcode data, collected using the Google API:\n",
    "work_home = pd.read_csv(datadir + 'work_home_cor.csv')"
   ]
  },
  {
   "cell_type": "code",
   "execution_count": null,
   "metadata": {},
   "outputs": [],
   "source": [
    "work_home.head()"
   ]
  },
  {
   "cell_type": "code",
   "execution_count": null,
   "metadata": {},
   "outputs": [],
   "source": [
    "work_home = work_home.drop(['Unnamed: 0'], axis=1)"
   ]
  },
  {
   "cell_type": "code",
   "execution_count": null,
   "metadata": {},
   "outputs": [],
   "source": [
    "staff=pd.merge(staff,work_home, how = 'inner', on = 'IDnumber')"
   ]
  },
  {
   "cell_type": "code",
   "execution_count": null,
   "metadata": {},
   "outputs": [],
   "source": [
    "staff.columns"
   ]
  },
  {
   "cell_type": "code",
   "execution_count": null,
   "metadata": {},
   "outputs": [],
   "source": [
    "staff.shape #5763 rows, 39 columns"
   ]
  },
  {
   "cell_type": "code",
   "execution_count": null,
   "metadata": {},
   "outputs": [],
   "source": [
    "# Convert home_lon and home_lat to co-ordinates and then easting, northing\n",
    "staff['home_coords'] = list(zip(staff.home_lon, staff.home_lat))\n",
    "staff['home_coords'] = staff['home_coords'].apply(Point)"
   ]
  },
  {
   "cell_type": "code",
   "execution_count": null,
   "metadata": {},
   "outputs": [],
   "source": [
    "# Deal with NaNs\n",
    "# Drop the rows with null StartLatitude or null StartLongitude so we don't have Point(nan nan) in the geodataframe\n",
    "staff = staff.loc[(staff.home_lon.notnull() & staff.home_lat.notnull())]\n",
    "staff.shape # 5756,40"
   ]
  },
  {
   "cell_type": "code",
   "execution_count": null,
   "metadata": {},
   "outputs": [],
   "source": [
    "# Add the geometry\n",
    "staff_geo = gpd.GeoDataFrame(staff, geometry='home_coords', crs={'init': 'epsg:4326'})"
   ]
  },
  {
   "cell_type": "code",
   "execution_count": null,
   "metadata": {},
   "outputs": [],
   "source": [
    "# transform the CRS to BNG co-ordinates\n",
    "staff_geo = staff_geo.to_crs({'init':'epsg:27700'})"
   ]
  },
  {
   "cell_type": "code",
   "execution_count": null,
   "metadata": {},
   "outputs": [],
   "source": [
    "staff_geo.geometry.name"
   ]
  },
  {
   "cell_type": "code",
   "execution_count": null,
   "metadata": {},
   "outputs": [],
   "source": [
    "staff_geo.head()"
   ]
  },
  {
   "cell_type": "code",
   "execution_count": null,
   "metadata": {},
   "outputs": [],
   "source": [
    "staff_geo.plot() # now this is in the correct CRS - British National Grid"
   ]
  },
  {
   "cell_type": "code",
   "execution_count": null,
   "metadata": {},
   "outputs": [],
   "source": [
    "# Add LSOA level data for Greater London\n",
    "shape_dir = \"/Users/lucieburgess/Documents/KCL/Urban_Mind_data/statistical-gis-boundaries-london/ESRI/\" \n",
    "lsoas = gpd.read_file(shape_dir + \"LSOA_2011_London_gen_MHW.shp\")\n",
    "\n",
    "lsoas.plot()"
   ]
  },
  {
   "cell_type": "code",
   "execution_count": null,
   "metadata": {},
   "outputs": [],
   "source": [
    "# Check the co-ordinate reference system of the LSOA data.\n",
    "lsoas.crs # already in BNG co-ordinates, OSGB36 which is what we want."
   ]
  },
  {
   "cell_type": "code",
   "execution_count": null,
   "metadata": {},
   "outputs": [],
   "source": [
    "# Spatial join of the LSOA to workforce_geo so we have the LSOA of the home postcode of the member of staff.\n",
    "# Match each home point in workforce_geo to an LSOA. \n",
    "staff_geo_lsoa = gpd.sjoin(staff_geo, lsoas, how=\"inner\", op='within')"
   ]
  },
  {
   "cell_type": "code",
   "execution_count": null,
   "metadata": {},
   "outputs": [],
   "source": [
    "staff_geo_lsoa.shape # 3633 staff - a significant number live outside London!"
   ]
  },
  {
   "cell_type": "code",
   "execution_count": null,
   "metadata": {},
   "outputs": [],
   "source": [
    "# Look at data of LSOA for England and Wales\n",
    "shape_dir = '/Users/lucieburgess/Documents/CUSP_data_dive_2019/lsoa_2011/'\n",
    "lsoas_ew = gpd.read_file(shape_dir + 'Lower_Layer_Super_Output_Areas_December_2011_Generalised_Clipped__Boundaries_in_England_and_Wales.shp')\n",
    "lsoas_ew.plot()"
   ]
  },
  {
   "cell_type": "code",
   "execution_count": null,
   "metadata": {},
   "outputs": [],
   "source": [
    "# Now join the data again to the England and Wales LSOA dataset\n",
    "# This seems to have lost the spatial information in the LSOA geometry column\n",
    "# From the GeoPandas documentation: ‘inner’: use intersection of keys from both dfs; retain only left_df geometry column\n",
    "staff_geo_lsoa_ew = gpd.sjoin(staff_geo, lsoas_ew, how=\"inner\", op='within')"
   ]
  },
  {
   "cell_type": "code",
   "execution_count": null,
   "metadata": {},
   "outputs": [],
   "source": [
    "staff_geo_lsoa_ew.columns"
   ]
  },
  {
   "cell_type": "code",
   "execution_count": null,
   "metadata": {},
   "outputs": [],
   "source": [
    "staff_geo_lsoa_ew.geometry.name"
   ]
  },
  {
   "cell_type": "code",
   "execution_count": null,
   "metadata": {},
   "outputs": [],
   "source": [
    "# re-set the geometry to 'geometry'\n",
    "#staff_geo_lsoa_ew_2.set_geometry('geometry')"
   ]
  },
  {
   "cell_type": "code",
   "execution_count": null,
   "metadata": {},
   "outputs": [],
   "source": [
    "staff_geo_lsoa_ew.shape # 5751, 47"
   ]
  },
  {
   "cell_type": "code",
   "execution_count": null,
   "metadata": {},
   "outputs": [],
   "source": [
    "# How to mask the areas in which there is no LSOA data?\n",
    "# Run regression or random forest of the three variables that are common between the leavers and staff datasets"
   ]
  },
  {
   "cell_type": "code",
   "execution_count": null,
   "metadata": {},
   "outputs": [],
   "source": [
    "staff_geo_lsoa_ew = staff_geo_lsoa_ew.drop(['index_right'], axis = 1)"
   ]
  },
  {
   "cell_type": "code",
   "execution_count": null,
   "metadata": {},
   "outputs": [],
   "source": [
    "# join the health subdomain IMD data on LSOA code\n",
    "imd_dir = '/Users/lucieburgess/Documents/CUSP_data_dive_2019/imd/' \n",
    "imd = pd.read_csv(imd_dir + 'File_2_ID_2015_Domains_of_deprivation.csv', header='infer', dtype={'Index of Multiple Deprivation (IMD) Rank (where 1 is most deprived)': np.float64,\n",
    "                                   'Index of Multiple Deprivation (IMD) Decile (where 1 is most deprived 10% of LSOAs)': np.float64})"
   ]
  },
  {
   "cell_type": "code",
   "execution_count": null,
   "metadata": {},
   "outputs": [],
   "source": [
    "imd.columns"
   ]
  },
  {
   "cell_type": "code",
   "execution_count": null,
   "metadata": {},
   "outputs": [],
   "source": [
    "lsoas_ew.columns\n",
    "imd.columns\n",
    "imd.rename(columns={'LSOA code (2011)':'lsoa11cd'}, inplace=True)\n",
    "imd_lsoa_ew = lsoas_ew.merge(imd, on='lsoa11cd')"
   ]
  },
  {
   "cell_type": "code",
   "execution_count": null,
   "metadata": {},
   "outputs": [],
   "source": [
    "imd_lsoa_ew.columns\n",
    "type(imd_lsoa_ew)\n",
    "imd_lsoa_ew.geometry.name\n",
    "imd_lsoa_ew.crs"
   ]
  },
  {
   "cell_type": "code",
   "execution_count": null,
   "metadata": {},
   "outputs": [],
   "source": [
    "staff_geo_lsoa_ew = staff_geo_lsoa_ew.drop(['objectid'], axis=1)"
   ]
  },
  {
   "cell_type": "code",
   "execution_count": null,
   "metadata": {},
   "outputs": [],
   "source": [
    "staff_geo_lsoa_ew.columns\n",
    "imd_lsoa_ew.columns"
   ]
  },
  {
   "cell_type": "code",
   "execution_count": null,
   "metadata": {},
   "outputs": [],
   "source": [
    "from textwrap import wrap\n",
    "\n",
    "f, ax = plt.subplots(1, figsize=(20, 20))\n",
    "ax.set_title('London ambulance service - staff locations and Living Environment deprivation by quintile', fontsize = 15)\n",
    "plt.tight_layout()\n",
    "title.set_y(1.01)\n",
    "imd_lsoa_ew.plot(column='Living Environment Rank (where 1 is most deprived)', scheme='quantiles', k=5, \n",
    "         edgecolor='b', cmap=plt.cm.Oranges_r, alpha=1,\n",
    "         linewidth=0.1, ax=ax, legend=True)\n",
    "staff_geo_lsoa_ew.plot(ax=ax, marker=\"x\",color=\"red\",markersize=20.0,alpha=1.0)\n",
    "#tower_hamlets.plot(alpha=1, edgecolor='yellow', linewidth=5.0,ax=ax,facecolor = 'none') - replace with greater London\n",
    "ax.annotate('Source: London Ambulance Service and London Datastore',\n",
    "            xy=(1, 0), xycoords='axes fraction',\n",
    "            xytext=(-20, 20), textcoords='offset pixels',\n",
    "            horizontalalignment='right',\n",
    "            verticalalignment='bottom')\n",
    "plt.tight_layout()\n",
    "plt.show()\n",
    "f.savefig('/Users/lucieburgess/Documents/CUSP_data_dive_2019/output/staff_living_env_deprivation.png')\n"
   ]
  },
  {
   "cell_type": "code",
   "execution_count": null,
   "metadata": {},
   "outputs": [],
   "source": [
    "# Filter data for paramedics, techicians and only and try drawing it again\n",
    "\n",
    "# Solutions for creating a mask\n",
    "# https://stackoverflow.com/questions/47781496/python-using-polygons-to-create-a-mask-on-a-given-2d-grid/47813188#47813188\n",
    "\n",
    "df2 = staff[['PositionTitle','IDnumber']].groupby(['PositionTitle'])['IDnumber'].size().reset_index(name='count').sort_values('count', ascending=False)\n",
    "print(df2)\n",
    "\n",
    "# job titles of interest: \n",
    "#                                         Paramedic B6   1391\n",
    "#124                           Emergency Ambulance Crew    645\n",
    "#282                                       Paramedic NQ    570\n",
    "#378                 Trainee Emergency Ambulance Crew 2    422\n",
    "#131                     Emergency Medical Technician 4    317\n",
    "#128               Emergency Medical Dispatcher Grade 2    202\n",
    "#70                                Clinical Team Leader    176\n",
    "#8                                     Ambulance Person    130\n",
    "#127               Emergency Medical Dispatcher Grade 1    125"
   ]
  },
  {
   "cell_type": "code",
   "execution_count": null,
   "metadata": {},
   "outputs": [],
   "source": [
    "positions_list = ['Paramedic B6','Emergency Ambulance Crew','Paramedic NQ','Trainee Emergency Ambulance Crew 2','Emergency Medical Dispatcher Grade 2','Clinical Team Leader',' Ambulance Person',' Emergency Medical Dispatcher Grade 1']\n",
    "staff_paramedics = staff_geo_lsoa_ew.loc[staff_geo_lsoa_ew['PositionTitle'].isin(positions_list)]\n"
   ]
  },
  {
   "cell_type": "code",
   "execution_count": null,
   "metadata": {},
   "outputs": [],
   "source": [
    "staff_paramedics.shape"
   ]
  },
  {
   "cell_type": "code",
   "execution_count": null,
   "metadata": {},
   "outputs": [],
   "source": [
    "staff_geo_lsoa_ew.shape"
   ]
  },
  {
   "cell_type": "code",
   "execution_count": null,
   "metadata": {},
   "outputs": [],
   "source": [
    "staff_paramedics.crs"
   ]
  },
  {
   "cell_type": "code",
   "execution_count": null,
   "metadata": {},
   "outputs": [],
   "source": [
    "staff_paramedics.geometry.name"
   ]
  },
  {
   "cell_type": "code",
   "execution_count": null,
   "metadata": {},
   "outputs": [],
   "source": [
    "# Try the plot again\n",
    "from textwrap import wrap\n",
    "\n",
    "f, ax = plt.subplots(1, figsize=(20, 20))\n",
    "title = ax.set_title(\"\\n\".join(wrap('London ambulance service - paramedic home locations and deprivation by quintile', 80)))\n",
    "plt.tight_layout()\n",
    "title.set_y(1.01)\n",
    "imd_lsoa_ew.plot(column='Living Environment Rank (where 1 is most deprived)', scheme='quantiles', k=5, \n",
    "         edgecolor='b', cmap=plt.cm.Blues_r, alpha=1,\n",
    "         linewidth=0.1, ax=ax, legend=True)\n",
    "staff_paramedics.plot(ax=ax, marker=\"x\",color=\"red\",markersize=20.0,alpha=1.0)\n",
    "ax.annotate('Source: London Ambulance Service and London Datastore',\n",
    "            xy=(1, 0), xycoords='axes fraction',\n",
    "            xytext=(-20, 20), textcoords='offset pixels',\n",
    "            horizontalalignment='right',\n",
    "            verticalalignment='bottom')\n",
    "plt.tight_layout()\n",
    "plt.show()\n",
    "f.savefig('/Users/lucieburgess/Documents/KCL/CUSP_data_dive_2019/output/paramedic_living_env_deprivation.png')"
   ]
  },
  {
   "cell_type": "code",
   "execution_count": null,
   "metadata": {},
   "outputs": [],
   "source": [
    "staff_geo_lsoa_ew.columns"
   ]
  },
  {
   "cell_type": "code",
   "execution_count": null,
   "metadata": {},
   "outputs": [],
   "source": [
    "# Calculate max, min, average distance from home to work for each type of staff.\n",
    "\n",
    "def euclidean_distance(p1, p2):\n",
    "    return (np.sqrt((p2.x-p1.x)**2 + (p2.y-p1.y)**2))/1000\n",
    "\n",
    "staff_geo_lsoa_ew['euclidean_distance'] = staff_geo_lsoa_ew.apply(lambda row: euclidean_distance(row['home_coords'],row['work_coords']), axis=1)\n",
    "staff_geo_lsoa_ew.head()"
   ]
  },
  {
   "cell_type": "code",
   "execution_count": null,
   "metadata": {},
   "outputs": [],
   "source": [
    "# https://www.shanelynn.ie/summarising-aggregation-and-grouping-data-in-python-pandas/\n",
    "df3 = staff_geo_lsoa_ew.groupby('PositionTitle')['euclidean_distance'].min()\n",
    "df4 = staff_geo_lsoa_ew.groupby('PositionTitle').agg({'euclidean_distance': [np.min, np.max, np.mean, np.sum]}).sort_values('PositionTitle')\n"
   ]
  },
  {
   "cell_type": "code",
   "execution_count": null,
   "metadata": {},
   "outputs": [],
   "source": [
    "df4"
   ]
  },
  {
   "cell_type": "code",
   "execution_count": null,
   "metadata": {},
   "outputs": [],
   "source": [
    "# Re-title job roles of staff\n",
    "def rename_jobtitle(job_title):\n",
    "    positions_list = ['Paramedic','Technician','Control Assistant','Manager','Clerical Worker','Officer','Paramedic Specialist Practitioner']\n",
    "    if job_title in positions_list:\n",
    "        return job_title\n",
    "    else:\n",
    "        return 'Other'\n",
    "    \n",
    "staff_geo_lsoa_ew['Summary_PositionTitle'] = staff_geo_lsoa_ew.apply(lambda row: rename_jobtitle(row['PositionTitle']), axis=1)\n",
    "staff_geo_lsoa_ew.head()\n",
    "\n"
   ]
  },
  {
   "cell_type": "code",
   "execution_count": null,
   "metadata": {},
   "outputs": [],
   "source": [
    "# Exclude outliers. Assume no-one travels more than 100km to get to work on a regular basis\n",
    "staff_dist_100 = staff_geo_lsoa_ew.loc[staff_geo_lsoa_ew['euclidean_distance'] < 100]\n",
    "\n",
    "staff_dist_100.shape # (5543, 47)\n",
    "staff_geo_lsoa_ew.shape # (5751, 47) - excludes approx 200 points\n",
    "staff_dist_100.plot()"
   ]
  },
  {
   "cell_type": "code",
   "execution_count": null,
   "metadata": {},
   "outputs": [],
   "source": [
    "# Calculate average deprivation of staff compared to London and the UK\n",
    "# Average deprivation in London\n",
    "\n",
    "london_imd = pd.read_csv('/Users/lucieburgess/Documents/KCL/Urban_Mind_data/London_IMD_2015/london_imd_2015.csv', header='infer', \n",
    "                         dtype={'Index of Multiple Deprivation (IMD) Rank (where 1 is most deprived)': np.float64,\n",
    "                                'Index of Multiple Deprivation (IMD) Decile (where 1 is most deprived 10% of LSOAs)': np.float64}) \n"
   ]
  },
  {
   "cell_type": "code",
   "execution_count": null,
   "metadata": {},
   "outputs": [],
   "source": [
    "london_imd.head()"
   ]
  },
  {
   "cell_type": "code",
   "execution_count": null,
   "metadata": {},
   "outputs": [],
   "source": [
    "df5 = london_imd.groupby('Local Authority District name (2013)').agg({'IMD Rank (where 1 is most deprived)': [np.min, np.max, np.mean]})\n",
    "df5"
   ]
  },
  {
   "cell_type": "code",
   "execution_count": null,
   "metadata": {},
   "outputs": [],
   "source": [
    "london_imd['IMD Rank (where 1 is most deprived)'].mean() # 14065.32\n",
    "london_imd['IMD Rank (where 1 is most deprived)'].max() # 32700\n",
    "london_imd['IMD Rank (where 1 is most deprived)'].min() # 586"
   ]
  },
  {
   "cell_type": "code",
   "execution_count": null,
   "metadata": {},
   "outputs": [],
   "source": [
    "staff_geo_lsoa_ew.columns"
   ]
  },
  {
   "cell_type": "code",
   "execution_count": null,
   "metadata": {},
   "outputs": [],
   "source": [
    "imd.columns"
   ]
  },
  {
   "cell_type": "code",
   "execution_count": null,
   "metadata": {},
   "outputs": [],
   "source": [
    "# Calculate average IMD score of LSOAs where London Ambulance Service staff live - within London and outside\n",
    "# Join England IMD dataset to the staff_geo_lsoa_ew dataset\n",
    "\n",
    "staff_geo_lsoa_ew_imd = pd.merge(staff_geo_lsoa_ew, imd, on='lsoa11cd', how='inner')\n",
    "staff_dist_100 = pd.merge(staff_dist_100, imd, on='lsoa11cd', how='inner')"
   ]
  },
  {
   "cell_type": "code",
   "execution_count": null,
   "metadata": {},
   "outputs": [],
   "source": [
    "staff_dist_100.shape"
   ]
  },
  {
   "cell_type": "code",
   "execution_count": null,
   "metadata": {},
   "outputs": [],
   "source": [
    "# Now filter the imd dataset by the LSOAs in the staff_dist_100 dataframe\n",
    "# return the lsoas in staff_dist_100 as a list or array\n",
    "\n",
    "lsoas_100 = staff_dist_100['lsoa11cd'].get_values()\n",
    "len(lsoas_100)"
   ]
  },
  {
   "cell_type": "code",
   "execution_count": null,
   "metadata": {},
   "outputs": [],
   "source": [
    "imd_100 = imd.loc[imd['lsoa11cd'].isin(lsoas_100)]\n",
    "imd_100.head()"
   ]
  },
  {
   "cell_type": "code",
   "execution_count": null,
   "metadata": {},
   "outputs": [],
   "source": [
    "# We need to join the imd_100 dataset with the lsoas dataset. The lsoas dataset is a spatial dataset, the \n",
    "lsoas_100_sp = lsoas_ew.loc[lsoas_ew['lsoa11cd'].isin(lsoas_100)]\n",
    "lsoas_100_sp.head()"
   ]
  },
  {
   "cell_type": "code",
   "execution_count": null,
   "metadata": {},
   "outputs": [],
   "source": [
    "type(imd_100)\n",
    "# Now join this back with the LSOA dataframe - left hand join - to retain the spatial information from the LSOA geodataframe\n",
    "imd_100.columns\n",
    "imd_100.shape # 581, 20\n",
    "imd_100_lsoa = lsoas_100_sp.merge(imd_100, on='lsoa11cd')"
   ]
  },
  {
   "cell_type": "code",
   "execution_count": null,
   "metadata": {},
   "outputs": [],
   "source": [
    "imd_100_lsoa.shape\n",
    "staff_dist_100.shape"
   ]
  },
  {
   "cell_type": "code",
   "execution_count": null,
   "metadata": {},
   "outputs": [],
   "source": [
    "# Now replot the map:\n",
    "\n",
    "from textwrap import wrap\n",
    "\n",
    "f, ax = plt.subplots(1, figsize=(20, 20))\n",
    "title = ax.set_title(\"\\n\".join(wrap('London ambulance service - LAS staff home locations and index of multiple deprivation by quintile, outliers excluded', 150)))\n",
    "plt.tight_layout()\n",
    "title.set_y(1.01)\n",
    "greater_london.plot(alpha=1, edgecolor='orange', linewidth=3.0,ax=ax,facecolor = 'none')\n",
    "imd_100_lsoa.plot(column='Index of Multiple Deprivation (IMD) Rank (where 1 is most deprived)', scheme='quantiles', k=5, \n",
    "    edgecolor='b', cmap=plt.cm.Blues_r, alpha=1,linewidth=0.1, ax=ax, legend=True)\n",
    "staff_dist_100.plot(ax=ax, marker=\"x\",color=\"red\",markersize=20.0,alpha=1.0)\n",
    "#tower_hamlets.plot(alpha=1, edgecolor='yellow', linewidth=5.0,ax=ax,facecolor = 'none') - replace with greater London\n",
    "ax.annotate('Source: London Ambulance Service and London Datastore',\n",
    "            xy=(1, 0), xycoords='axes fraction',\n",
    "            xytext=(-20, 20), textcoords='offset pixels',\n",
    "            horizontalalignment='right',\n",
    "            verticalalignment='bottom')\n",
    "plt.tight_layout()\n",
    "plt.show()\n",
    "f.savefig('/Users/lucieburgess/Documents/CUSP_data_dive_2019/output/staff_100_deprivation.png')\n"
   ]
  },
  {
   "cell_type": "code",
   "execution_count": null,
   "metadata": {},
   "outputs": [],
   "source": [
    "# Still difficult to tell what's going on as some of the LSOAs are very small. Overlay London borough boundary\n",
    "shape_dir = \"/Users/lucieburgess/Documents/KCL/Urban_Mind_data/lp-consultation-oct-2009-inner-outer-london-shp/\" \n",
    "london_shp = gpd.read_file(shape_dir + \"lp-consultation-oct-2009-inner-outer-london.shp\")\n",
    "london_shp.head()\n",
    "london_shp['New_Boundary'] = 'Greater_London'\n",
    "london_shp.head()\n",
    "greater_london = london_shp.dissolve(by ='New_Boundary', aggfunc = 'sum')\n",
    "greater_london.plot()\n",
    "greater_london.head()\n"
   ]
  },
  {
   "cell_type": "code",
   "execution_count": null,
   "metadata": {},
   "outputs": [],
   "source": [
    "staff_geo_lsoa_ew.geometry.name"
   ]
  },
  {
   "cell_type": "code",
   "execution_count": null,
   "metadata": {},
   "outputs": [],
   "source": [
    "# Now clip this map to the Greater London boundary online\n",
    "# Clip imd_lsao_ew and staff_geo_lsoa_ew\n",
    "\n",
    "import shapely.speedups\n",
    "shapely.speedups.enable()\n",
    "\n",
    "greater_london.reset_index(drop=True, inplace=True)\n",
    "greater_london.head()\n",
    "imd_mask = imd_lsoa_ew['geometry'].within(greater_london.loc[0, 'geometry'])\n",
    "imd_masked = imd_lsoa_ew.loc[imd_mask]"
   ]
  },
  {
   "cell_type": "code",
   "execution_count": null,
   "metadata": {},
   "outputs": [],
   "source": [
    "staff_mask = staff_geo_lsoa_ew['home_coords'].within(greater_london.loc[0, 'geometry'])\n",
    "staff_masked = staff_geo_lsoa_ew.loc[staff_mask]"
   ]
  },
  {
   "cell_type": "code",
   "execution_count": null,
   "metadata": {},
   "outputs": [],
   "source": [
    "f, ax = plt.subplots(1, figsize=(20, 20))\n",
    "ax.set_title('LAS staff home locations (postcode sector) and Index of Multiple Deprivation by Quintile, outliers excluded', fontsize=15)\n",
    "plt.tight_layout()\n",
    "title.set_y(1.01)\n",
    "greater_london.plot(alpha=1, edgecolor='orange', linewidth=3.0,ax=ax,facecolor = 'none')\n",
    "imd_masked.plot(column='Index of Multiple Deprivation (IMD) Rank (where 1 is most deprived)', scheme='quantiles', k=5, \n",
    "    edgecolor='b', cmap=plt.cm.Purples_r, alpha=1,linewidth=0.1, ax=ax, legend=True)\n",
    "staff_masked.plot(ax=ax, marker=\"x\",color=\"red\",markersize=30.0,alpha=1.0)\n",
    "ax.annotate('Source: London Ambulance Service and London Datastore',\n",
    "            xy=(1, 0), xycoords='axes fraction',\n",
    "            xytext=(-20, 20), textcoords='offset pixels',\n",
    "            horizontalalignment='right',\n",
    "            verticalalignment='bottom')\n",
    "plt.tight_layout()\n",
    "plt.show()\n"
   ]
  },
  {
   "cell_type": "code",
   "execution_count": null,
   "metadata": {},
   "outputs": [],
   "source": [
    "# Calculate average deprivation rank of the IMD score of LAS staff locations\n",
    "staff_dist_100['Index of Multiple Deprivation (IMD) Rank (where 1 is most deprived)'].mean() # 16,742\n",
    "# National average rank - 16422"
   ]
  },
  {
   "cell_type": "code",
   "execution_count": null,
   "metadata": {},
   "outputs": [],
   "source": [
    "imd.columns"
   ]
  },
  {
   "cell_type": "code",
   "execution_count": null,
   "metadata": {},
   "outputs": [],
   "source": [
    "df6 = imd.agg({'Index of Multiple Deprivation (IMD) Rank (where 1 is most deprived)': [np.min, np.max, np.mean]})\n"
   ]
  },
  {
   "cell_type": "code",
   "execution_count": null,
   "metadata": {},
   "outputs": [],
   "source": [
    "df6"
   ]
  },
  {
   "cell_type": "code",
   "execution_count": null,
   "metadata": {},
   "outputs": [],
   "source": [
    "# Compare to the London average\n",
    "london_imd.columns\n",
    "df7 = london_imd.agg({'IMD Rank (where 1 is most deprived)': [np.min, np.max, np.mean, np.median]})"
   ]
  },
  {
   "cell_type": "code",
   "execution_count": null,
   "metadata": {},
   "outputs": [],
   "source": [
    "df7"
   ]
  },
  {
   "cell_type": "code",
   "execution_count": null,
   "metadata": {},
   "outputs": [],
   "source": [
    "df8 = staff_dist_100.agg({'Index of Multiple Deprivation (IMD) Rank (where 1 is most deprived)': [np.min, np.max, np.mean, np.median]})\n",
    "df8"
   ]
  },
  {
   "cell_type": "code",
   "execution_count": null,
   "metadata": {},
   "outputs": [],
   "source": [
    "staff_masked.columns"
   ]
  },
  {
   "cell_type": "code",
   "execution_count": null,
   "metadata": {},
   "outputs": [],
   "source": [
    "imd_staff_masked = staff_masked.merge(imd_100, on='lsoa11cd')"
   ]
  },
  {
   "cell_type": "code",
   "execution_count": null,
   "metadata": {},
   "outputs": [],
   "source": [
    "imd_staff_masked.columns"
   ]
  },
  {
   "cell_type": "code",
   "execution_count": null,
   "metadata": {},
   "outputs": [],
   "source": [
    "df9 = imd_staff_masked.agg({'Index of Multiple Deprivation (IMD) Rank (where 1 is most deprived)': [np.min, np.max, np.mean, np.median]})\n",
    "df9"
   ]
  },
  {
   "cell_type": "code",
   "execution_count": null,
   "metadata": {},
   "outputs": [],
   "source": []
  }
 ],
 "metadata": {
  "kernelspec": {
   "display_name": "Python 3",
   "language": "python",
   "name": "python3"
  },
  "language_info": {
   "codemirror_mode": {
    "name": "ipython",
    "version": 3
   },
   "file_extension": ".py",
   "mimetype": "text/x-python",
   "name": "python",
   "nbconvert_exporter": "python",
   "pygments_lexer": "ipython3",
   "version": "3.6.7"
  }
 },
 "nbformat": 4,
 "nbformat_minor": 2
}
